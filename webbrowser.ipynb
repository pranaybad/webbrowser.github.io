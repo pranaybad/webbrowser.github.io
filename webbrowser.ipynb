{
 "cells": [
  {
   "cell_type": "code",
   "execution_count": 1,
   "metadata": {},
   "outputs": [
    {
     "data": {
      "text/plain": [
       "True"
      ]
     },
     "execution_count": 1,
     "metadata": {},
     "output_type": "execute_result"
    }
   ],
   "source": [
    "import webbrowser\n",
    "import tkinter as tk\n",
    "word = \"marvel\"\n",
    "search = 'https://www.google.com/search?q='+word\n",
    "webbrowser.open_new(search)"
   ]
  },
  {
   "cell_type": "code",
   "execution_count": 12,
   "metadata": {},
   "outputs": [],
   "source": [
    "import webbrowser\n",
    "import tkinter as tk\n",
    "\n",
    "root= tk.Tk()\n",
    "root.geometry('400x150')\n",
    "root.title('webbrowser')\n",
    "\n",
    "def fb():\n",
    "    webbrowser.open_new(\"www.facebook.com\")\n",
    "    \n",
    "def yt():\n",
    "    webbrowser.open_new(\"www.youtube.com\")\n",
    "    \n",
    "def insta():\n",
    "    webbrowser.open_new(\"www.instagram.com\")\n",
    "    \n",
    "def twitter():\n",
    "    webbrowser.open_new(\"www.twitter.com\")\n",
    "\n",
    "def search():\n",
    "    word=x.get()\n",
    "    search = 'https://www.google.com/search?q='+word\n",
    "    webbrowser.open_new(search)\n",
    "\n",
    "x=tk.StringVar()\n",
    "b1 = tk.Button(root,text=\"Facebook\",fg=\"white\",bg=\"#3b5998\",command=fb)\n",
    "b2 = tk.Button(root,text=\"YouTube\",fg=\"white\",bg=\"#FF0000\",command=yt)\n",
    "b3 = tk.Button(root,text=\"Instagram\",fg=\"white\",bg=\"#C13584\",command=insta)\n",
    "b4 = tk.Button(root,text=\"Twitter\",fg=\"white\",bg=\"#00acee\",command=twitter)\n",
    "\n",
    "b1.place(x=10,y=70,width=80,height=30)\n",
    "b2.place(x=100,y=70,width=80,height=30)\n",
    "b3.place(x=190,y=70,width=80,height=30)\n",
    "b4.place(x=10,y=105,width=135,height=30)\n",
    "\n",
    "b5 = tk.Button(root,text=\"search\",fg=\"white\",bg=\"#202020\",command=search)\n",
    "b5.place(x=320,y=10,width=70,height=50)\n",
    "e1=tk.Entry(root, textvariable=x)\n",
    "e1.place(x=10,y=10,width=300,height=50)\n",
    "\n",
    "root.mainloop()"
   ]
  },
  {
   "cell_type": "code",
   "execution_count": null,
   "metadata": {},
   "outputs": [],
   "source": []
  },
  {
   "cell_type": "code",
   "execution_count": null,
   "metadata": {},
   "outputs": [],
   "source": []
  }
 ],
 "metadata": {
  "kernelspec": {
   "display_name": "Python 3",
   "language": "python",
   "name": "python3"
  },
  "language_info": {
   "codemirror_mode": {
    "name": "ipython",
    "version": 3
   },
   "file_extension": ".py",
   "mimetype": "text/x-python",
   "name": "python",
   "nbconvert_exporter": "python",
   "pygments_lexer": "ipython3",
   "version": "3.9.0"
  }
 },
 "nbformat": 4,
 "nbformat_minor": 4
}
